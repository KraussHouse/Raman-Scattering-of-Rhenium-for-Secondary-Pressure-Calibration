{
 "cells": [
  {
   "cell_type": "markdown",
   "metadata": {},
   "source": [
    "## DiamondEdgeFit.ipynb"
   ]
  },
  {
   "cell_type": "markdown",
   "metadata": {},
   "source": [
    "Copyright &copy; 2025 Pease et al."
   ]
  },
  {
   "cell_type": "markdown",
   "metadata": {},
   "source": [
    "### About\n",
    "This is a python software that will fit diamond edge data using flat, bevel, and tDAC anvils.   \n",
    "&nbsp;&nbsp;&nbsp;&nbsp;&nbsp;Smoothing is required to effecitivly fit the torodial DAC.  \n",
    "&nbsp;&nbsp;&nbsp;&nbsp;&nbsp;Smoothing is not generally need to fit bevel or flat anvils"
   ]
  },
  {
   "cell_type": "markdown",
   "metadata": {},
   "source": [
    "For questions regarding this software, contact:  \n",
    "&nbsp;&nbsp;&nbsp;&nbsp;&nbsp;Allison M. Pease: peaseall@msu.edu"
   ]
  },
  {
   "cell_type": "code",
   "execution_count": null,
   "metadata": {},
   "outputs": [],
   "source": [
    "# Importing the necessary libraries\n",
    "import numpy as np\n",
    "import matplotlib.pyplot as plt\n",
    "from scipy.optimize import curve_fit\n",
    "from scipy.misc import derivative\n",
    "import csv\n",
    "from datetime import datetime\n",
    "from scipy.signal import savgol_filter"
   ]
  },
  {
   "cell_type": "markdown",
   "metadata": {},
   "source": [
    "## Data Location"
   ]
  },
  {
   "cell_type": "code",
   "execution_count": null,
   "metadata": {},
   "outputs": [],
   "source": [
    "# Folder and File Names and Locations\n",
    "    # Path to the original directory inputed by the user (Old_Folder) and the new directory (New_Folder)\n",
    "Path = \"C:/Users\"\n",
    "    # Remember to add .txt to the end of the file name\n",
    "File_Name = \"File_Name.txt\""
   ]
  },
  {
   "cell_type": "code",
   "execution_count": null,
   "metadata": {},
   "outputs": [],
   "source": [
    "    # Remember to add .csv to the end of the file name\n",
    "CSV_File = \"CSV_File.csv\"\n",
    "# Check if the CSV file exists and write the header if it doesn't\n",
    "try:\n",
    "    with open(csv_file, 'x', newline='') as file:\n",
    "        writer = csv.writer(file)\n",
    "        writer.writerow(['Data Name', 'Reference', 'Position', 'Akahama Pressure (GPa)', 'Eremets Pressure (GPa)','Range Reference Min','Range Reference Max','Range Edge Min','Range Edge Max','Window', 'poly order','Timestamp'])\n",
    "except FileExistsError:\n",
    "    pass"
   ]
  },
  {
   "cell_type": "markdown",
   "metadata": {},
   "source": [
    "## Load Data"
   ]
  },
  {
   "cell_type": "code",
   "execution_count": null,
   "metadata": {},
   "outputs": [],
   "source": [
    "# Load Data\n",
    "def read_data(File_Name):\n",
    "    data = np.loadtxt(File_Name)\n",
    "    x = data[:, 0]\n",
    "    y = data[:, 1]\n",
    "    return x, y\n",
    "x, y = read_data(data)"
   ]
  },
  {
   "cell_type": "markdown",
   "metadata": {},
   "source": [
    "## Smooth Data"
   ]
  },
  {
   "cell_type": "code",
   "execution_count": null,
   "metadata": {},
   "outputs": [],
   "source": [
    "# Define the ranges for finding max and min derivatives\n",
    "range_max = (1320, 1338)\n",
    "#change Each time\n",
    "range_min = (1620,1645) #(1360, 1370) \n",
    "#Normalize data to avoid changing graph scaling\n",
    "def normalize_data(data):\n",
    "    max_value = max(data)\n",
    "    return [value / max_value for value in data]\n",
    "y = normalize_data(y)\n",
    "#smooth data in y\n",
    "window_length = 31  # possible range: 21-51, must be an odd number\n",
    "polyorder = 11      # Polynomial order 13-7\n",
    "y_smooth = savgol_filter(y, window_length, polyorder)\n",
    "# Plot the original data and the smoothed data\n",
    "plt.figure(figsize=(10, 6))\n",
    "plt.xlim(1300,1700)\n",
    "plt.ylim(0,1.3)\n",
    "plt.plot(x, y, label='Data', color='blue')\n",
    "plt.plot(x, y_smooth, label='Smoothed Data', color='black')\n",
    "plt.xlabel('cm-1')\n",
    "plt.legend()\n",
    "plt.title('Data and smoothed fit')\n",
    "plt.show()"
   ]
  },
  {
   "cell_type": "markdown",
   "metadata": {},
   "source": [
    "## Derivative and Gaussian Fit"
   ]
  },
  {
   "cell_type": "code",
   "execution_count": null,
   "metadata": {},
   "outputs": [],
   "source": [
    "#Run this to fit the smoothed data \n",
    "#Take the first derivative\n",
    "dy_dx = np.gradient(y, x)\n",
    "dy_dx_smooth = np.gradient(y_smooth, x)\n",
    "# Find indices within the specified ranges\n",
    "indices_max = np.where((x >= range_max[0]) & (x <= range_max[1]))[0]\n",
    "indices_min = np.where((x >= range_min[0]) & (x <= range_min[1]))[0]\n",
    "# Gaussian function\n",
    "def gaussian(x, amp, cen, wid):\n",
    "    return amp * np.exp(-(x - cen)**2 / (2 * wid**2))\n",
    "# Fit Gaussian to the first derivative in the given ranges\n",
    "#the reference is never smoothed, the gaussian is fit to the data \n",
    "popt_max, _ = curve_fit(gaussian, x[indices_max], dy_dx[indices_max], p0=[1, np.mean(x[indices_max]), 1])\n",
    "# evaluate if the edge position needs to be smoothed to fit the gaussian to the data \n",
    "#smooth the DE  position (default) \n",
    "popt_min, _ = curve_fit(gaussian, x[indices_min], dy_dx_smooth[indices_min], p0=[1, np.mean(x[indices_min]), 1])\n",
    "#Do not smooth the DE  position \n",
    "#popt_min, _ = curve_fit(gaussian, x[indices_min], dy_dx[indices_min], p0=[1, np.mean(x[indices_min]), 1])\n",
    "# Determine the maximum and minimum derivative values based on the Gaussian fit\n",
    "max_dy_dx = gaussian(x[indices_max], *popt_max).max()\n",
    "min_dy_dx = gaussian(x[indices_min], *popt_min).min()\n",
    "# Find the x locations of the maximum and minimum derivative values\n",
    "x_max_dy_dx = x[indices_max][np.argmax(gaussian(x[indices_max], *popt_max))]\n",
    "x_min_dy_dx = x[indices_min][np.argmin(gaussian(x[indices_min], *popt_min))]\n",
    "# Plot the derivative and the gaussian fit\n",
    "plt.figure(figsize=(10, 6))\n",
    "plt.xlim(1300,1700)\n",
    "plt.ylim(-.5,.5)\n",
    "plt.scatter(x, y_smooth, label='Smoothed Data', color='black')\n",
    "plt.plot(x, dy_dx * 5, label='Derivative', color='green')\n",
    "plt.plot(x, dy_dx_smooth * 5, label='Derivative from smoothed data', color='blue')\n",
    "plt.plot(x[indices_max], gaussian(x[indices_max], *popt_max) * 5, label='Gaussian Fit (Reference Position)', linestyle='--', color='orange')\n",
    "plt.plot(x[indices_min], gaussian(x[indices_min], *popt_min) * 5, label='Gaussian Fit (Edge Position)', linestyle='--', color='red')\n",
    "plt.xlabel('cm-1')\n",
    "plt.legend()\n",
    "plt.title('Data and its Derivative with Gaussian Fit')\n",
    "plt.savefig(\"%s/%s_Image\" % (path, name))\n",
    "print('Reference position =', x_max_dy_dx)\n",
    "print('Diamond edge position =', x_min_dy_dx)"
   ]
  },
  {
   "cell_type": "markdown",
   "metadata": {},
   "source": [
    "## Calculate Pressure"
   ]
  },
  {
   "cell_type": "code",
   "execution_count": null,
   "metadata": {},
   "outputs": [],
   "source": [
    "#Akahama + 2010 (https://iopscience.iop.org/article/10.1088/1742-6596/215/1/012195/pdf).\n",
    "#Constants\n",
    "A=547 #GPa\n",
    "A_unc=11\n",
    "B=3.75\n",
    "B_unc=0.2\n",
    "w_ref=x_max_dy_dx\n",
    "w=x_min_dy_dx\n",
    "# Solve for pressure using Akahama + 2010 \n",
    "Akahama10_pressure=A*(w-w_ref)/w_ref*(1+0.5*(B-1)*(w-w_ref)/w_ref)\n",
    "print ('Pressure based on Akahama =', Akahama10_pressure, \"GPa\")\n",
    "#Eremets + 2023 (https://www.nature.com/articles/s41467-023-36429-9.pdf).\n",
    "#constants\n",
    "A_em=517 #GPa\n",
    "A_em_unc=5\n",
    "B_em=764 #GPa\n",
    "B_em_unc=14\n",
    "# Solve for pressure using Eremets + 2023\n",
    "Eremets23_pressure= A_em*(w-w_ref)/w_ref+B_em*((w-w_ref)/w_ref*(w-w_ref)/w_ref)\n",
    "print ('Pressure based on Eremets =', Eremets23_pressure, \"GPa\")\n",
    "# Get the current date and time\n",
    "timestamp = datetime.now().strftime('%Y-%m-%d %H:%M:%S')\n",
    "print(timestamp)"
   ]
  },
  {
   "cell_type": "markdown",
   "metadata": {},
   "source": [
    "## Save to CSV file"
   ]
  },
  {
   "cell_type": "code",
   "execution_count": null,
   "metadata": {},
   "outputs": [],
   "source": [
    "# Check if the CSV file exists and write the header if it doesn't\n",
    "try:\n",
    "    with open(csv_file, 'x', newline='') as file:\n",
    "        writer = csv.writer(file)\n",
    "        writer.writerow(['Data Name', 'Reference', 'Position', 'Akahama Pressure (GPa)', 'Eremets Pressure (GPa)','Range Reference Min','Range Reference Max','Range Edge Min','Range Edge Max','Window', 'poly order','Timestamp'])\n",
    "except FileExistsError:\n",
    "    pass\n",
    "# Append the results to the CSV file\n",
    "with open(csv_file, mode='a', newline='') as file:\n",
    "    writer = csv.writer(file)\n",
    "    writer.writerow([name, x_max_dy_dx, x_min_dy_dx, Akahama10_pressure, Eremets23_pressure, range_max[0], range_max[1], range_min[0], range_min[1], window_length, polyorder, timestamp])\n",
    "print('data saved for', name, 'at', timestamp)"
   ]
  },
  {
   "cell_type": "markdown",
   "metadata": {},
   "source": [
    "Copyright &copy; 2025 Pease et al."
   ]
  },
  {
   "cell_type": "markdown",
   "metadata": {},
   "source": [
    "Last Updated: February 13<sup>th</sup>, 2025"
   ]
  },
  {
   "cell_type": "markdown",
   "metadata": {},
   "source": [
    "### License\n",
    "This program is free software: you can redistribute it and/or modify\n",
    "it under the terms of the GNU General Public License as published by\n",
    "the Free Software Foundation, either version 3 of the License, or\n",
    "(at your option) any later version.\n",
    "\n",
    "This program is distributed in the hope that it will be useful,\n",
    "but WITHOUT ANY WARRANTY; without even the implied warranty of\n",
    "MERCHANTABILITY or FITNESS FOR A PARTICULAR PURPOSE.  See the\n",
    "GNU General Public License for more details.\n",
    "\n",
    "You should have received a copy of the GNU General Public License\n",
    "along with this program.  If not, see <https://www.gnu.org/licenses/>."
   ]
  }
 ],
 "metadata": {
  "language_info": {
   "name": "python"
  }
 },
 "nbformat": 4,
 "nbformat_minor": 2
}
